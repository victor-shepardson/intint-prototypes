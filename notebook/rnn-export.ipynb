{
 "cells": [
  {
   "cell_type": "code",
   "execution_count": 1,
   "id": "51333b68-4e69-4158-8e7e-8c8e0264ba43",
   "metadata": {},
   "outputs": [],
   "source": [
    "import io \n",
    "import numpy as np\n",
    "\n",
    "import torch\n",
    "from matplotlib import pyplot as plt\n",
    "from IPython.display import Audio"
   ]
  },
  {
   "cell_type": "markdown",
   "id": "c217aeb9-09f7-4368-8b33-9c6dd7d89a7f",
   "metadata": {},
   "source": [
    "## define a pytorch model with a function (`sample`) we would like to export"
   ]
  },
  {
   "cell_type": "code",
   "execution_count": 391,
   "id": "ecf0b9c4-19cf-4951-a0d8-d4706711b306",
   "metadata": {},
   "outputs": [],
   "source": [
    "# # class Basic(torch.nn.Module):\n",
    "# #     def forward(self, x, y):\n",
    "# #         return x+y\n",
    "\n",
    "# class Basic(torch.nn.Module):\n",
    "#     def __init__(self, emb_size, hidden_size):\n",
    "#         super().__init__()\n",
    "#         self.hidden_size = hidden_size\n",
    "#         self.cell = torch.nn.GRUCell(emb_size, hidden_size)\n",
    "#         self.proj = torch.nn.Linear(hidden_size, 1)\n",
    "#         self.emb = torch.nn.Linear(1, emb_size)\n",
    "#     def forward(self, h, x):\n",
    "#         # x: sample [batch x channels]\n",
    "#         # h: hidden state [batch x hidden]\n",
    "#         # returns: next hidden state, next sample\n",
    "#         h = self.cell(self.emb(x), h)\n",
    "#         x = self.proj(h)\n",
    "#         return h, x    \n",
    "    \n",
    "# basic = Basic(64, 128)"
   ]
  },
  {
   "cell_type": "code",
   "execution_count": 529,
   "id": "e0e41ef3-d38e-4d52-92dd-bb9bc100fc76",
   "metadata": {},
   "outputs": [],
   "source": [
    "# torch has the logit function but ONNX does not\n",
    "def logit(x):\n",
    "    return (x/(1-x)).log()\n",
    "\n",
    "class TorchLogisticCDF(torch.nn.Module):\n",
    "    def likelihood(self, loc, log_scale, target, resolution=65536):\n",
    "        # likelihood\n",
    "        # probably not numerically stable\n",
    "        d = torch.tensor([0.5, -0.5])/resolution\n",
    "        inv_scale = (-log_scale).exp()\n",
    "        prob = (((target - loc)[...,None] + d) * inv_scale[...,None]).sigmoid().sum(-1)\n",
    "        return prob.clamp(1e-5, 1e5).log()\n",
    "        \n",
    "    def sample(self, loc, log_scale, u=None, temp=1):\n",
    "        scale = log_scale.exp()\n",
    "        if u is None:\n",
    "            u = torch.rand(tuple(loc.shape))#torch.rand_like(loc)\n",
    "        return loc + temp * scale * logit(u)#.logit()\n",
    "    \n",
    "# class TorchMixtureLogisticCDF(torch.nn.Module):\n",
    "#     def __init__(self, n):\n",
    "#         self.n = n\n",
    "#         self.input_size = 3*n\n",
    "        \n",
    "#     def likelihood(self, h, target, resolution=65536):\n",
    "#         # likelihood\n",
    "#         loc, log_scale, log_pi = h.chunk(3, -1)\n",
    "        \n",
    "#         d = torch.tensor([0.5, -0.5])/resolution\n",
    "#         inv_scale = (-log_scale).exp()\n",
    "#         prob = (((target - loc)[...,None] + d) * scale[...,None]).sigmoid().sum(-1)\n",
    "#         return prob.log()\n",
    "        \n",
    "#     def sample(self, loc, log_scale, u=None, temp=1):\n",
    "#         scale = log_scale.exp()\n",
    "#         if u is None:\n",
    "#             u = torch.rand_like(loc)\n",
    "#         return loc + temp * scale * logit(u)#.logit()\n",
    "\n",
    "class TorchRNN(torch.nn.Module):\n",
    "    \"\"\"mixture density network with GRU cell\"\"\"\n",
    "    def __init__(self, emb_size, hidden_size):\n",
    "        super().__init__()\n",
    "        self.hidden_size = hidden_size\n",
    "        \n",
    "        self.rnn = torch.nn.GRU(emb_size, hidden_size)\n",
    "        self.rnn_cell = torch.nn.GRUCell(emb_size, hidden_size)\n",
    "        self.rnn_cell.weight_ih = self.rnn.weight_ih_l0\n",
    "        self.rnn_cell.weight_hh = self.rnn.weight_hh_l0\n",
    "        \n",
    "        self.h0 = torch.nn.Parameter(torch.randn(1,hidden_size))\n",
    "        \n",
    "        self.proj = torch.nn.Linear(hidden_size, 2)\n",
    "        self.emb = torch.nn.Linear(1, emb_size)\n",
    "        self.output = TorchLogisticCDF()\n",
    "        \n",
    "    def sample(self, h, x, u=None, temp=1):\n",
    "        \"\"\"\n",
    "        Args:\n",
    "            x: sample Tensor[batch x 1]\n",
    "            h: hidden state Tensor[batch x hidden]\n",
    "        rReturns: \n",
    "            next hidden state Tensor[batch x hidden]\n",
    "            next sample Tensor[batch x 1]\n",
    "        \"\"\"\n",
    "        h = self.rnn_cell(self.emb(x), h)\n",
    "        dist_params = self.proj(h)\n",
    "        # chunk appears to trigger a bug in TVM\n",
    "        #loc, log_scale = dist_params.chunk(2,-1)\n",
    "        loc, log_scale = dist_params[...,:1], dist_params[...,1:]\n",
    "        x = self.output.sample(loc, log_scale, u, temp)\n",
    "        return h, x\n",
    "    \n",
    "    def sample_n(self, h, x_block, n=1, temp=1):\n",
    "        \"\"\"\n",
    "        Args:\n",
    "            x: sample block [batch x time x 1]\n",
    "            h: hidden state [batch x hidden]\n",
    "        Returns: \n",
    "            final hidden state Tensor[batch x hidden]\n",
    "            next sample block Tensor[batch x time x 1]\n",
    "        \"\"\"\n",
    "        xs = []\n",
    "        x = x_block[:,-1,:]\n",
    "        for i in range(n):\n",
    "            h, x = self.sample(h, x, temp=temp)\n",
    "            xs.append(x)\n",
    "        return h, torch.stack(xs, -2)\n",
    "    \n",
    "    def forward(self, x):\n",
    "        \"\"\"\n",
    "        Args:\n",
    "            x: signal Tensor[batch x time x 1]\n",
    "        Returns:\n",
    "            log likelihood Tensor[batch x time]\n",
    "        \"\"\"\n",
    "        x_emb = self.emb(x)\n",
    "        h, _ = self.rnn(x_emb, self.h0[None].expand(*x.shape[:2],-1))\n",
    "        dist_params = self.proj(h[:,:-1])\n",
    "        loc, log_scale = dist_params.chunk(2,-1)\n",
    "        return self.output.likelihood(loc, log_scale, x[:,1:])"
   ]
  },
  {
   "cell_type": "code",
   "execution_count": 530,
   "id": "3200b1ed-27f8-42af-bd13-bfb8101b27fd",
   "metadata": {},
   "outputs": [],
   "source": [
    "class ExportWrapper(torch.nn.Module):\n",
    "    \"\"\"convenience for exporting model function other than `forward`\"\"\"\n",
    "    # def __init__(self, cls, fn_name, *a, **kw):\n",
    "    #     self.model = cls(*a, kw)\n",
    "    #     self.fn_name = fn_name\n",
    "    def __init__(self, instance, fn_name, **kw):\n",
    "        super().__init__()\n",
    "        self.model = instance\n",
    "        self.fn_name = fn_name\n",
    "        self.kw = kw\n",
    "        \n",
    "    def forward(self, *a, **kw):\n",
    "        return getattr(self.model, self.fn_name)(*a, **kw, **self.kw)\n",
    "    "
   ]
  },
  {
   "cell_type": "code",
   "execution_count": 531,
   "id": "dfe18012-859c-4ce1-a66e-74ca07f00c2c",
   "metadata": {},
   "outputs": [],
   "source": [
    "rnn = TorchRNN(64, 128)\n",
    "n = 16\n",
    "temp = 0.01"
   ]
  },
  {
   "cell_type": "markdown",
   "id": "f88dc7e0-0ebb-42a0-8715-51d0b2ab6256",
   "metadata": {},
   "source": [
    "### training"
   ]
  },
  {
   "cell_type": "code",
   "execution_count": 517,
   "id": "4ae306dd-5dfb-4579-988e-33ad37b99a3b",
   "metadata": {},
   "outputs": [
    {
     "name": "stdout",
     "output_type": "stream",
     "text": [
      "32.4 ms ± 2.26 ms per loop (mean ± std. dev. of 7 runs, 10 loops each)\n"
     ]
    }
   ],
   "source": [
    "%%timeit\n",
    "rnn(torch.randn(1,8000,1)).shape"
   ]
  },
  {
   "cell_type": "markdown",
   "id": "23cbff81-208e-45b8-ad78-386fa32a09a2",
   "metadata": {},
   "source": [
    "### inference"
   ]
  },
  {
   "cell_type": "code",
   "execution_count": 520,
   "id": "edf00d10-4b74-47cf-a952-17c1ed3be99d",
   "metadata": {
    "tags": []
   },
   "outputs": [
    {
     "name": "stdout",
     "output_type": "stream",
     "text": [
      "947 ms ± 38.7 ms per loop (mean ± std. dev. of 7 runs, 1 loop each)\n"
     ]
    }
   ],
   "source": [
    "%%timeit\n",
    "with torch.no_grad():\n",
    "    h = rnn.h0.detach()\n",
    "    x = torch.zeros(1,1)\n",
    "    xs = []\n",
    "    for _ in range(8000):\n",
    "        h, x = rnn.sample(h, x, temp=temp)\n",
    "        xs.append(x.item())"
   ]
  },
  {
   "cell_type": "markdown",
   "id": "610ba898-655b-4299-a5b9-825b36758aea",
   "metadata": {},
   "source": [
    "without internal RNG:"
   ]
  },
  {
   "cell_type": "code",
   "execution_count": 534,
   "id": "6b5d07e9-c0fc-40f8-8b20-a3461048504e",
   "metadata": {},
   "outputs": [
    {
     "name": "stdout",
     "output_type": "stream",
     "text": [
      "930 ms ± 53.4 ms per loop (mean ± std. dev. of 7 runs, 1 loop each)\n"
     ]
    }
   ],
   "source": [
    "%%timeit\n",
    "with torch.no_grad():\n",
    "    h = rnn.h0.detach()\n",
    "    x = torch.zeros(1,1)\n",
    "    xs = []\n",
    "    for _ in range(8000):\n",
    "        u = torch.rand(1, 1)\n",
    "        h, x = rnn.sample(h, x, u=u, temp=temp)\n",
    "        xs.append(x.item())"
   ]
  },
  {
   "cell_type": "markdown",
   "id": "3df2a2af-7996-4379-8a72-52cea60daab0",
   "metadata": {},
   "source": [
    "in blocks:"
   ]
  },
  {
   "cell_type": "code",
   "execution_count": 532,
   "id": "dab9101c-dd5a-4451-8b03-9bc5d044d2f4",
   "metadata": {},
   "outputs": [
    {
     "name": "stdout",
     "output_type": "stream",
     "text": [
      "928 ms ± 24.8 ms per loop (mean ± std. dev. of 7 runs, 1 loop each)\n"
     ]
    }
   ],
   "source": [
    "%%timeit\n",
    "with torch.no_grad():\n",
    "    h = rnn.h0.detach()\n",
    "    x_block = torch.zeros(1, n, 1)\n",
    "    xs = []\n",
    "    for _ in range(8000//n):\n",
    "        h, x_block = rnn.sample_n(h, x_block, n=n, temp=temp)\n",
    "        xs.extend(x_block[0, :, 0].detach())"
   ]
  },
  {
   "cell_type": "code",
   "execution_count": 535,
   "id": "339cf317-c7ae-49b2-a5ce-9b4d7c47d1d2",
   "metadata": {},
   "outputs": [
    {
     "data": {
      "text/plain": [
       "(torch.Size([1, 128]),\n",
       " torch.Size([1, 1]),\n",
       " torch.Size([1, 1, 16]),\n",
       " torch.Size([1, 1]))"
      ]
     },
     "execution_count": 535,
     "metadata": {},
     "output_type": "execute_result"
    }
   ],
   "source": [
    "h.shape, x.shape, x_block.shape, u.shape"
   ]
  },
  {
   "cell_type": "code",
   "execution_count": 525,
   "id": "effe38c6-fa68-40c4-b16f-b8a681f83a14",
   "metadata": {},
   "outputs": [
    {
     "data": {
      "text/html": [
       "\n",
       "                <audio  controls=\"controls\" >\n",
       "                    <source src=\"data:audio/wav;base64,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\" type=\"audio/wav\" />\n",
       "                    Your browser does not support the audio element.\n",
       "                </audio>\n",
       "              "
      ],
      "text/plain": [
       "<IPython.lib.display.Audio object>"
      ]
     },
     "execution_count": 525,
     "metadata": {},
     "output_type": "execute_result"
    },
    {
     "data": {
      "image/png": "[encoded data removed]",
      "text/plain": [
       "<Figure size 432x288 with 1 Axes>"
      ]
     },
     "metadata": {
      "needs_background": "light"
     },
     "output_type": "display_data"
    }
   ],
   "source": [
    "plt.plot(xs)\n",
    "Audio(xs, rate=8000)"
   ]
  },
  {
   "cell_type": "markdown",
   "id": "42e13392-041b-4a98-805c-dc745311ef4c",
   "metadata": {},
   "source": [
    "## export to ONNX"
   ]
  },
  {
   "cell_type": "code",
   "execution_count": 526,
   "id": "c1eae70e-bb92-47ba-9c4f-4af19d0896f1",
   "metadata": {},
   "outputs": [
    {
     "data": {
      "text/plain": [
       "14"
      ]
     },
     "execution_count": 526,
     "metadata": {},
     "output_type": "execute_result"
    }
   ],
   "source": [
    "opset = 14#backend.Caffe2Backend._known_opset_version\n",
    "opset"
   ]
  },
  {
   "cell_type": "code",
   "execution_count": 537,
   "id": "cd7bbedb-615e-4597-b6eb-6b2d0bd6da0a",
   "metadata": {},
   "outputs": [],
   "source": [
    "h = rnn.h0.detach()\n",
    "x = torch.zeros(1,1)\n",
    "x_block = torch.zeros(1,16,1)\n",
    "u = torch.rand(1, 1)\n",
    "        \n",
    "# torch.onnx.export(\n",
    "#     basic,\n",
    "#     (h,x),                    # model input (or a tuple for multiple inputs)\n",
    "#     'basic.onnx',                         # where to save the model (can be a file or file-like object)\n",
    "#     export_params=True,        # store the trained parameter weights inside the model file\n",
    "#     opset_version=opset,          # the ONNX version to export the model to\n",
    "#     do_constant_folding=True,  # whether to execute constant folding for optimization\n",
    "#     input_names = ['prev_state', 'input'],   # the model's input names\n",
    "#     output_names = ['output'], # the model's output names\n",
    "#     # verbose=True\n",
    "# )\n",
    "\n",
    "onnx_file = 'test.onnx'\n",
    "torch.onnx.export(\n",
    "    ExportWrapper(rnn, 'sample', temp=temp), # nn.Module\n",
    "    (h, x),                                  # model input\n",
    "    onnx_file,                               # file to save the model\n",
    "    opset_version=opset,                     # ONNX version\n",
    "    do_constant_folding=True,\n",
    "    input_names = ['prev_state', 'input'],  \n",
    "    output_names = ['next_state', 'output'],\n",
    "    # verbose=True\n",
    ")\n",
    "\n",
    "onnx_file_norng = 'test_norng.onnx'\n",
    "torch.onnx.export(\n",
    "    ExportWrapper(rnn, 'sample', temp=temp), \n",
    "    (h, x, u),                               \n",
    "    onnx_file_norng,                         \n",
    "    opset_version=opset,                     \n",
    "    do_constant_folding=True,                \n",
    "    input_names = ['prev_state', 'input', 'rng'], \n",
    "    output_names = ['next_state', 'output'],\n",
    "    # verbose=True\n",
    ")\n",
    "\n",
    "onnx_file_block = 'test_block.onnx'\n",
    "torch.onnx.export(\n",
    "    ExportWrapper(rnn, 'sample_n', n=n, temp=temp),\n",
    "    (h, x_block),                  \n",
    "    onnx_file_block,               \n",
    "    opset_version=opset,          \n",
    "    do_constant_folding=True,  \n",
    "    input_names = ['prev_state', 'input'], \n",
    "    output_names = ['next_state', 'output'],\n",
    "    # verbose=True\n",
    ")"
   ]
  },
  {
   "cell_type": "markdown",
   "id": "511a3028-d2ab-44b4-8ef9-a2d8c31ba99b",
   "metadata": {},
   "source": [
    "## load with python onnx package"
   ]
  },
  {
   "cell_type": "code",
   "execution_count": 538,
   "id": "779ca974-dd50-4483-82ef-b4b20f82a1bc",
   "metadata": {
    "tags": []
   },
   "outputs": [],
   "source": [
    "import onnx\n",
    "# help(onnx)"
   ]
  },
  {
   "cell_type": "code",
   "execution_count": 541,
   "id": "24a57404-d891-4bc1-93dd-2c9ab2b37bea",
   "metadata": {
    "tags": []
   },
   "outputs": [
    {
     "name": "stdout",
     "output_type": "stream",
     "text": [
      "graph torch-jit-export (\n",
      "  %prev_state[FLOAT, 1x128]\n",
      "  %input[FLOAT, 1x1]\n",
      ") initializers (\n",
      "  %model.rnn.weight_ih_l0[FLOAT, 384x64]\n",
      "  %model.rnn.weight_hh_l0[FLOAT, 384x128]\n",
      "  %model.rnn_cell.bias_ih[FLOAT, 384]\n",
      "  %model.rnn_cell.bias_hh[FLOAT, 384]\n",
      "  %model.proj.weight[FLOAT, 2x128]\n",
      "  %model.proj.bias[FLOAT, 2]\n",
      "  %model.emb.weight[FLOAT, 64x1]\n",
      "  %model.emb.bias[FLOAT, 64]\n",
      "  %65[INT64, 2]\n",
      ") {\n",
      "  %13 = Gemm[alpha = 1, beta = 1, transB = 1](%input, %model.emb.weight, %model.emb.bias)\n",
      "  %14 = Gemm[alpha = 1, beta = 1, transB = 1](%13, %model.rnn.weight_ih_l0, %model.rnn_cell.bias_ih)\n",
      "  %15 = Constant[value = <Tensor>]()\n",
      "  %16, %17, %18 = Split[axis = 1](%14, %15)\n",
      "  %19 = Gemm[alpha = 1, beta = 1, transB = 1](%prev_state, %model.rnn.weight_hh_l0, %model.rnn_cell.bias_hh)\n",
      "  %20 = Constant[value = <Tensor>]()\n",
      "  %21, %22, %23 = Split[axis = 1](%19, %20)\n",
      "  %24 = Add(%21, %16)\n",
      "  %25 = Sigmoid(%24)\n",
      "  %26 = Add(%22, %17)\n",
      "  %27 = Sigmoid(%26)\n",
      "  %28 = Mul(%23, %25)\n",
      "  %29 = Add(%18, %28)\n",
      "  %30 = Tanh(%29)\n",
      "  %31 = Sub(%prev_state, %30)\n",
      "  %32 = Mul(%31, %27)\n",
      "  %next_state = Add(%32, %30)\n",
      "  %34 = Gemm[alpha = 1, beta = 1, transB = 1](%next_state, %model.proj.weight, %model.proj.bias)\n",
      "  %35 = Constant[value = <Tensor>]()\n",
      "  %36 = Constant[value = <Tensor>]()\n",
      "  %37 = Constant[value = <Tensor>]()\n",
      "  %38 = Constant[value = <Tensor>]()\n",
      "  %39 = Slice(%34, %36, %37, %35, %38)\n",
      "  %40 = Constant[value = <Tensor>]()\n",
      "  %41 = Constant[value = <Tensor>]()\n",
      "  %42 = Constant[value = <Tensor>]()\n",
      "  %43 = Constant[value = <Tensor>]()\n",
      "  %44 = Slice(%34, %41, %42, %40, %43)\n",
      "  %45 = Exp(%44)\n",
      "  %53 = ConstantOfShape[value = <Tensor>](%65)\n",
      "  %54 = RandomUniformLike[dtype = 1](%53)\n",
      "  %55 = Constant[value = <Scalar Tensor []>]()\n",
      "  %56 = Mul(%45, %55)\n",
      "  %57 = Constant[value = <Scalar Tensor []>]()\n",
      "  %58 = Sub(%57, %54)\n",
      "  %59 = Div(%54, %58)\n",
      "  %60 = Log(%59)\n",
      "  %61 = Mul(%56, %60)\n",
      "  %output = Add(%39, %61)\n",
      "  return %next_state, %output\n",
      "}\n"
     ]
    }
   ],
   "source": [
    "# Load the ONNX model\n",
    "onnx_model = onnx.load(onnx_file)\n",
    "onnx_model_norng = onnx.load(onnx_file_norng)\n",
    "onnx_model_block = onnx.load(onnx_file_block)\n",
    "\n",
    "# Check that the IR is well formed\n",
    "onnx.checker.check_model(onnx_model)\n",
    "onnx.checker.check_model(onnx_model_norng)\n",
    "onnx.checker.check_model(onnx_model_block)\n",
    "\n",
    "# Print a human readable representation of the graph\n",
    "print(onnx.helper.printable_graph(onnx_model.graph))"
   ]
  },
  {
   "cell_type": "code",
   "execution_count": 427,
   "id": "9c557b87-c066-4f2d-8f18-5ab5ab6443b1",
   "metadata": {},
   "outputs": [],
   "source": [
    "# onnx_model.graph"
   ]
  },
  {
   "cell_type": "markdown",
   "id": "07305005-6135-4a11-b019-84097e77ef27",
   "metadata": {},
   "source": [
    "## run with caffe2"
   ]
  },
  {
   "cell_type": "code",
   "execution_count": 542,
   "id": "2e828039-dc09-43fc-8f57-b4d250f8d6f3",
   "metadata": {},
   "outputs": [],
   "source": [
    "h = np.zeros((1, rnn.hidden_size), np.float32)\n",
    "x = np.array([[0.]]).astype(np.float32)\n",
    "u = np.random.rand(1,1).astype(np.float32)"
   ]
  },
  {
   "cell_type": "code",
   "execution_count": 543,
   "id": "5dc46273-30dc-413b-a87f-cd6f9c29f829",
   "metadata": {
    "tags": []
   },
   "outputs": [
    {
     "name": "stderr",
     "output_type": "stream",
     "text": [
      "WARNING:root:This caffe2 python run failed to load cuda module:No module named 'caffe2.python.caffe2_pybind11_state_gpu',and AMD hip module:No module named 'caffe2.python.caffe2_pybind11_state_hip'.Will run in CPU only mode.\n",
      "/Users/victor/anaconda3/envs/rnn-export/lib/python3.9/site-packages/caffe2/python/onnx/backend.py:687: UserWarning: This version of onnx-caffe2 targets ONNX operator set version 9, but the model we are trying to import uses version 14.  We will try to import it anyway, but if the model uses operators which had BC-breaking changes in the intervening versions, import will fail.\n",
      "  warnings.warn(\"This version of onnx-caffe2 targets ONNX operator set version {}, but the model we are trying to import uses version {}.  We will try to import it anyway, but if the model uses operators which had BC-breaking changes in the intervening versions, import will fail.\".format(cls._known_opset_version, imp.version))\n",
      "/Users/victor/anaconda3/envs/rnn-export/lib/python3.9/site-packages/caffe2/python/onnx/backend.py:878: UserWarning: ShapeInferenceWarning: utils module not found in ONNX version 1.10.1\n",
      "  warnings.warn(\"ShapeInferenceWarning: utils module not found in ONNX version {}\".format(onnx.__version__))\n",
      "/Users/victor/anaconda3/envs/rnn-export/lib/python3.9/site-packages/caffe2/python/onnx/backend.py:885: UserWarning: OptimizerWarning: optimizer module not found in ONNX version 1.10.1\n",
      "  warnings.warn(\"OptimizerWarning: optimizer module not found in ONNX version {}\".format(onnx.__version__))\n",
      "[W init.h:137] Caffe2 GlobalInit should be run before any other API calls.\n",
      "WARNING:caffe2.python.workspace:Original python traceback for operator `0` in network `torch-jit-export_init` in exception above (most recent call last):\n"
     ]
    },
    {
     "ename": "RuntimeError",
     "evalue": "[enforce fail at net.cc:70] . op MatMul: Source for input model.emb.weight is unknown for net torch-jit-export_init, operator input: \"input\" input: \"model.emb.weight\" output: \"OC2_DUMMY_0\" name: \"\" type: \"MatMul\" arg { name: \"trans_a\" i: 0 } arg { name: \"trans_b\" i: 1 }",
     "output_type": "error",
     "traceback": [
      "\u001b[0;31m---------------------------------------------------------------------------\u001b[0m",
      "\u001b[0;31mRuntimeError\u001b[0m                              Traceback (most recent call last)",
      "\u001b[0;32m/tmp/ipykernel_95517/2245173100.py\u001b[0m in \u001b[0;36m<module>\u001b[0;34m\u001b[0m\n\u001b[1;32m      6\u001b[0m \u001b[0;31m#     rep.workspace is the Caffe2 workspace for the network\u001b[0m\u001b[0;34m\u001b[0m\u001b[0;34m\u001b[0m\u001b[0m\n\u001b[1;32m      7\u001b[0m \u001b[0;31m#       (see the class caffe2.python.onnx.backend.Workspace)\u001b[0m\u001b[0;34m\u001b[0m\u001b[0;34m\u001b[0m\u001b[0m\n\u001b[0;32m----> 8\u001b[0;31m \u001b[0moutputs\u001b[0m \u001b[0;34m=\u001b[0m \u001b[0mrep\u001b[0m\u001b[0;34m.\u001b[0m\u001b[0mrun\u001b[0m\u001b[0;34m(\u001b[0m\u001b[0;34m(\u001b[0m\u001b[0mh\u001b[0m\u001b[0;34m,\u001b[0m \u001b[0mx\u001b[0m\u001b[0;34m,\u001b[0m \u001b[0mu\u001b[0m\u001b[0;34m)\u001b[0m\u001b[0;34m)\u001b[0m\u001b[0;34m\u001b[0m\u001b[0;34m\u001b[0m\u001b[0m\n\u001b[0m\u001b[1;32m      9\u001b[0m \u001b[0mprint\u001b[0m\u001b[0;34m(\u001b[0m\u001b[0moutputs\u001b[0m\u001b[0;34m[\u001b[0m\u001b[0;36m0\u001b[0m\u001b[0;34m]\u001b[0m\u001b[0;34m)\u001b[0m\u001b[0;34m\u001b[0m\u001b[0;34m\u001b[0m\u001b[0m\n",
      "\u001b[0;32m~/anaconda3/envs/rnn-export/lib/python3.9/site-packages/caffe2/python/onnx/backend_rep.py\u001b[0m in \u001b[0;36mrun\u001b[0;34m(self, inputs, **kwargs)\u001b[0m\n\u001b[1;32m     49\u001b[0m                 \u001b[0mself\u001b[0m\u001b[0;34m.\u001b[0m\u001b[0mworkspace\u001b[0m\u001b[0;34m.\u001b[0m\u001b[0mFeedBlob\u001b[0m\u001b[0;34m(\u001b[0m\u001b[0mself\u001b[0m\u001b[0;34m.\u001b[0m\u001b[0muninitialized\u001b[0m\u001b[0;34m[\u001b[0m\u001b[0;36m0\u001b[0m\u001b[0;34m]\u001b[0m\u001b[0;34m,\u001b[0m \u001b[0minputs\u001b[0m\u001b[0;34m)\u001b[0m\u001b[0;34m\u001b[0m\u001b[0;34m\u001b[0m\u001b[0m\n\u001b[1;32m     50\u001b[0m             \u001b[0;32mif\u001b[0m \u001b[0;32mnot\u001b[0m \u001b[0mself\u001b[0m\u001b[0;34m.\u001b[0m\u001b[0mnets_created\u001b[0m\u001b[0;34m:\u001b[0m\u001b[0;34m\u001b[0m\u001b[0;34m\u001b[0m\u001b[0m\n\u001b[0;32m---> 51\u001b[0;31m                 \u001b[0mself\u001b[0m\u001b[0;34m.\u001b[0m\u001b[0mworkspace\u001b[0m\u001b[0;34m.\u001b[0m\u001b[0mCreateNet\u001b[0m\u001b[0;34m(\u001b[0m\u001b[0mself\u001b[0m\u001b[0;34m.\u001b[0m\u001b[0minit_net\u001b[0m\u001b[0;34m)\u001b[0m\u001b[0;34m\u001b[0m\u001b[0;34m\u001b[0m\u001b[0m\n\u001b[0m\u001b[1;32m     52\u001b[0m                 \u001b[0mself\u001b[0m\u001b[0;34m.\u001b[0m\u001b[0mworkspace\u001b[0m\u001b[0;34m.\u001b[0m\u001b[0mCreateNet\u001b[0m\u001b[0;34m(\u001b[0m\u001b[0mself\u001b[0m\u001b[0;34m.\u001b[0m\u001b[0mpredict_net\u001b[0m\u001b[0;34m)\u001b[0m\u001b[0;34m\u001b[0m\u001b[0;34m\u001b[0m\u001b[0m\n\u001b[1;32m     53\u001b[0m                 \u001b[0mself\u001b[0m\u001b[0;34m.\u001b[0m\u001b[0mnets_created\u001b[0m \u001b[0;34m=\u001b[0m \u001b[0;32mTrue\u001b[0m\u001b[0;34m\u001b[0m\u001b[0;34m\u001b[0m\u001b[0m\n",
      "\u001b[0;32m~/anaconda3/envs/rnn-export/lib/python3.9/site-packages/caffe2/python/onnx/workspace.py\u001b[0m in \u001b[0;36mf\u001b[0;34m(*args, **kwargs)\u001b[0m\n\u001b[1;32m     61\u001b[0m         \u001b[0;32mdef\u001b[0m \u001b[0mf\u001b[0m\u001b[0;34m(\u001b[0m\u001b[0;34m*\u001b[0m\u001b[0margs\u001b[0m\u001b[0;34m,\u001b[0m \u001b[0;34m**\u001b[0m\u001b[0mkwargs\u001b[0m\u001b[0;34m)\u001b[0m\u001b[0;34m:\u001b[0m\u001b[0;34m\u001b[0m\u001b[0;34m\u001b[0m\u001b[0m\n\u001b[1;32m     62\u001b[0m             \u001b[0;32mwith\u001b[0m \u001b[0mself\u001b[0m\u001b[0;34m.\u001b[0m\u001b[0m_ctx\u001b[0m\u001b[0;34m:\u001b[0m\u001b[0;34m\u001b[0m\u001b[0;34m\u001b[0m\u001b[0m\n\u001b[0;32m---> 63\u001b[0;31m                 \u001b[0;32mreturn\u001b[0m \u001b[0mgetattr\u001b[0m\u001b[0;34m(\u001b[0m\u001b[0mworkspace\u001b[0m\u001b[0;34m,\u001b[0m \u001b[0mattr\u001b[0m\u001b[0;34m)\u001b[0m\u001b[0;34m(\u001b[0m\u001b[0;34m*\u001b[0m\u001b[0margs\u001b[0m\u001b[0;34m,\u001b[0m \u001b[0;34m**\u001b[0m\u001b[0mkwargs\u001b[0m\u001b[0;34m)\u001b[0m\u001b[0;34m\u001b[0m\u001b[0;34m\u001b[0m\u001b[0m\n\u001b[0m\u001b[1;32m     64\u001b[0m         \u001b[0;32mreturn\u001b[0m \u001b[0mf\u001b[0m\u001b[0;34m\u001b[0m\u001b[0;34m\u001b[0m\u001b[0m\n\u001b[1;32m     65\u001b[0m \u001b[0;34m\u001b[0m\u001b[0m\n",
      "\u001b[0;32m~/anaconda3/envs/rnn-export/lib/python3.9/site-packages/caffe2/python/workspace.py\u001b[0m in \u001b[0;36mCreateNet\u001b[0;34m(net, overwrite, input_blobs)\u001b[0m\n\u001b[1;32m    187\u001b[0m     \u001b[0;32mfor\u001b[0m \u001b[0minput_blob\u001b[0m \u001b[0;32min\u001b[0m \u001b[0minput_blobs\u001b[0m\u001b[0;34m:\u001b[0m\u001b[0;34m\u001b[0m\u001b[0;34m\u001b[0m\u001b[0m\n\u001b[1;32m    188\u001b[0m         \u001b[0mC\u001b[0m\u001b[0;34m.\u001b[0m\u001b[0mcreate_blob\u001b[0m\u001b[0;34m(\u001b[0m\u001b[0minput_blob\u001b[0m\u001b[0;34m)\u001b[0m\u001b[0;34m\u001b[0m\u001b[0;34m\u001b[0m\u001b[0m\n\u001b[0;32m--> 189\u001b[0;31m     return CallWithExceptionIntercept(\n\u001b[0m\u001b[1;32m    190\u001b[0m         \u001b[0mC\u001b[0m\u001b[0;34m.\u001b[0m\u001b[0mcreate_net\u001b[0m\u001b[0;34m,\u001b[0m\u001b[0;34m\u001b[0m\u001b[0;34m\u001b[0m\u001b[0m\n\u001b[1;32m    191\u001b[0m         \u001b[0mC\u001b[0m\u001b[0;34m.\u001b[0m\u001b[0mWorkspace\u001b[0m\u001b[0;34m.\u001b[0m\u001b[0mcurrent\u001b[0m\u001b[0;34m.\u001b[0m\u001b[0m_last_failed_op_net_position\u001b[0m\u001b[0;34m,\u001b[0m\u001b[0;34m\u001b[0m\u001b[0;34m\u001b[0m\u001b[0m\n",
      "\u001b[0;32m~/anaconda3/envs/rnn-export/lib/python3.9/site-packages/caffe2/python/workspace.py\u001b[0m in \u001b[0;36mCallWithExceptionIntercept\u001b[0;34m(func, op_id_fetcher, net_name, *args, **kwargs)\u001b[0m\n\u001b[1;32m    225\u001b[0m \u001b[0;32mdef\u001b[0m \u001b[0mCallWithExceptionIntercept\u001b[0m\u001b[0;34m(\u001b[0m\u001b[0mfunc\u001b[0m\u001b[0;34m,\u001b[0m \u001b[0mop_id_fetcher\u001b[0m\u001b[0;34m,\u001b[0m \u001b[0mnet_name\u001b[0m\u001b[0;34m,\u001b[0m \u001b[0;34m*\u001b[0m\u001b[0margs\u001b[0m\u001b[0;34m,\u001b[0m \u001b[0;34m**\u001b[0m\u001b[0mkwargs\u001b[0m\u001b[0;34m)\u001b[0m\u001b[0;34m:\u001b[0m\u001b[0;34m\u001b[0m\u001b[0;34m\u001b[0m\u001b[0m\n\u001b[1;32m    226\u001b[0m     \u001b[0;32mtry\u001b[0m\u001b[0;34m:\u001b[0m\u001b[0;34m\u001b[0m\u001b[0;34m\u001b[0m\u001b[0m\n\u001b[0;32m--> 227\u001b[0;31m         \u001b[0;32mreturn\u001b[0m \u001b[0mfunc\u001b[0m\u001b[0;34m(\u001b[0m\u001b[0;34m*\u001b[0m\u001b[0margs\u001b[0m\u001b[0;34m,\u001b[0m \u001b[0;34m**\u001b[0m\u001b[0mkwargs\u001b[0m\u001b[0;34m)\u001b[0m\u001b[0;34m\u001b[0m\u001b[0;34m\u001b[0m\u001b[0m\n\u001b[0m\u001b[1;32m    228\u001b[0m     \u001b[0;32mexcept\u001b[0m \u001b[0mException\u001b[0m\u001b[0;34m:\u001b[0m\u001b[0;34m\u001b[0m\u001b[0;34m\u001b[0m\u001b[0m\n\u001b[1;32m    229\u001b[0m         \u001b[0mop_id\u001b[0m \u001b[0;34m=\u001b[0m \u001b[0mop_id_fetcher\u001b[0m\u001b[0;34m(\u001b[0m\u001b[0;34m)\u001b[0m\u001b[0;34m\u001b[0m\u001b[0;34m\u001b[0m\u001b[0m\n",
      "\u001b[0;31mRuntimeError\u001b[0m: [enforce fail at net.cc:70] . op MatMul: Source for input model.emb.weight is unknown for net torch-jit-export_init, operator input: \"input\" input: \"model.emb.weight\" output: \"OC2_DUMMY_0\" name: \"\" type: \"MatMul\" arg { name: \"trans_a\" i: 0 } arg { name: \"trans_b\" i: 1 }"
     ]
    }
   ],
   "source": [
    "import caffe2.python.onnx.backend as backend\n",
    "\n",
    "rep = backend.prepare(onnx_model_norng, device=\"CPU\") # or \"CUDA:0\"\n",
    "# For the Caffe2 backend:\n",
    "#     rep.predict_net is the Caffe2 protobuf for the network\n",
    "#     rep.workspace is the Caffe2 workspace for the network\n",
    "#       (see the class caffe2.python.onnx.backend.Workspace)\n",
    "outputs = rep.run((h, x, u))\n",
    "print(outputs[0])"
   ]
  },
  {
   "cell_type": "markdown",
   "id": "7e6156b2-1e54-49c2-b7ec-beb345f44700",
   "metadata": {},
   "source": [
    "caffe2 doesn't do RNG. https://github.com/onnx/onnx-caffe2/blob/master/tests/ONNXOpCoverage.md\n",
    "\n",
    "even passing in the random source, it will not work...\n",
    "\n",
    "with torch 1.9.1, doesn't support the current onnx\n",
    "\n",
    "downgrading onnx did not work either -- onnx.optimizer is there but fails somehow\n",
    "\n",
    "now with pytorch-nightly and latest onnx, it has this \"source for input is unknown\" error"
   ]
  },
  {
   "cell_type": "markdown",
   "id": "138072ca-1920-48d3-a4b7-5fed1c5aa2d3",
   "metadata": {},
   "source": [
    "## run with onnxruntime"
   ]
  },
  {
   "cell_type": "code",
   "execution_count": 544,
   "id": "3664f046-3d88-439d-ad4b-51053f3b4432",
   "metadata": {},
   "outputs": [],
   "source": [
    "import onnxruntime as ort\n",
    "ort_session = ort.InferenceSession('test.onnx')\n",
    "ort_session_norng = ort.InferenceSession('test_norng.onnx')\n",
    "ort_session_block = ort.InferenceSession('test_block.onnx')"
   ]
  },
  {
   "cell_type": "code",
   "execution_count": 550,
   "id": "1339725c-1dfa-4e2a-ad7a-aa7562975812",
   "metadata": {},
   "outputs": [
    {
     "name": "stdout",
     "output_type": "stream",
     "text": [
      "564 ms ± 12.3 ms per loop (mean ± std. dev. of 7 runs, 1 loop each)\n"
     ]
    }
   ],
   "source": [
    "%%timeit\n",
    "h = np.zeros((1, rnn.hidden_size), np.float32)\n",
    "x = np.array([[0.]]).astype(np.float32)\n",
    "xs = []\n",
    "for _ in range(8000):\n",
    "    h, x = ort_session.run(None, {'prev_state': h, 'input':x})\n",
    "    xs.append(x.item())"
   ]
  },
  {
   "cell_type": "code",
   "execution_count": 551,
   "id": "a5011efc-9ee8-4f4a-b9c3-38ff71955303",
   "metadata": {},
   "outputs": [
    {
     "name": "stdout",
     "output_type": "stream",
     "text": [
      "584 ms ± 14.8 ms per loop (mean ± std. dev. of 7 runs, 1 loop each)\n"
     ]
    }
   ],
   "source": [
    "%%timeit\n",
    "h = np.zeros((1, rnn.hidden_size), np.float32)\n",
    "x = np.array([[0.]]).astype(np.float32)\n",
    "xs = []\n",
    "for _ in range(8000):\n",
    "    u = np.random.rand(1,1).astype(np.float32)\n",
    "    h, x = ort_session_norng.run(None, {'prev_state': h, 'input':x, 'rng':u})\n",
    "    xs.append(x.item())"
   ]
  },
  {
   "cell_type": "code",
   "execution_count": 552,
   "id": "00684745-aba0-4c23-8b68-2cf9fe53461a",
   "metadata": {},
   "outputs": [
    {
     "name": "stdout",
     "output_type": "stream",
     "text": [
      "503 ms ± 28.2 ms per loop (mean ± std. dev. of 7 runs, 1 loop each)\n"
     ]
    }
   ],
   "source": [
    "%%timeit\n",
    "h = np.zeros((1, rnn.hidden_size), np.float32)\n",
    "x_block = np.zeros((1,n,1), np.float32)\n",
    "xs = []\n",
    "for _ in range(8000//n):\n",
    "    h, x_block = ort_session_block.run(None, {'prev_state': h, 'input':x_block})\n",
    "    xs.extend(x_block[0,:,0])"
   ]
  },
  {
   "cell_type": "code",
   "execution_count": 549,
   "id": "569b18ab-897b-4a18-917a-0ee2deb79133",
   "metadata": {},
   "outputs": [
    {
     "data": {
      "text/html": [
       "\n",
       "                <audio  controls=\"controls\" >\n",
       "                    <source src=\"data:audio/wav;base64,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\" type=\"audio/wav\" />\n",
       "                    Your browser does not support the audio element.\n",
       "                </audio>\n",
       "              "
      ],
      "text/plain": [
       "<IPython.lib.display.Audio object>"
      ]
     },
     "execution_count": 549,
     "metadata": {},
     "output_type": "execute_result"
    },
    {
     "data": {
      "image/png": "[encoded data removed]",
      "text/plain": [
       "<Figure size 432x288 with 1 Axes>"
      ]
     },
     "metadata": {
      "needs_background": "light"
     },
     "output_type": "display_data"
    }
   ],
   "source": [
    "plt.plot(xs)\n",
    "Audio(xs, rate=8000)"
   ]
  },
  {
   "cell_type": "markdown",
   "id": "5508ad84-b7f6-4627-a9cd-1558dc7b1b5e",
   "metadata": {},
   "source": [
    "onnxruntime is about 2x faster on my mac, which is nice to see\n",
    "\n",
    "not much benefit from blocks of size 16 though"
   ]
  },
  {
   "cell_type": "markdown",
   "id": "8cfbcc6c-2f40-41a5-9476-ab20d7f77a70",
   "metadata": {},
   "source": [
    "## run with TVM"
   ]
  },
  {
   "cell_type": "code",
   "execution_count": 553,
   "id": "95a013f6-ec56-4c86-a481-2972adc9ef52",
   "metadata": {},
   "outputs": [],
   "source": [
    "# onnx_basic = onnx.load('basic.onnx')"
   ]
  },
  {
   "cell_type": "code",
   "execution_count": 554,
   "id": "7910627d-c790-4330-bc93-0c90ad0b37bc",
   "metadata": {},
   "outputs": [],
   "source": [
    "import sys\n",
    "sys.path.append('/Users/victor/tvm/python')\n",
    "import tvm\n",
    "from tvm import te\n",
    "import tvm.relay as relay"
   ]
  },
  {
   "cell_type": "code",
   "execution_count": 555,
   "id": "b601e265-6a43-41f5-b096-a51a5bb3db7c",
   "metadata": {},
   "outputs": [],
   "source": [
    "# h = np.zeros((1, basic.hidden_size), np.float32)\n",
    "# x = np.array([[0.]]).astype(np.float32)\n",
    "\n",
    "# tvm_target = 'llvm'\n",
    "\n",
    "# shape_dict = {'prev_state': h.shape, 'input': x.shape}\n",
    "# mod, params = relay.frontend.from_onnx(onnx_basic, shape_dict)\n",
    "\n",
    "# with tvm.transform.PassContext(opt_level=1):\n",
    "#     executor = relay.build_module.create_executor(\n",
    "#         'graph', mod, tvm.cpu(0), tvm_target, params\n",
    "#     ).evaluate()"
   ]
  },
  {
   "cell_type": "code",
   "execution_count": 556,
   "id": "620acf31-c70a-4e77-971e-48d47a28319e",
   "metadata": {},
   "outputs": [],
   "source": [
    "# tvm_h, tvm_x = [torch.from_numpy(item.numpy()) for item in executor(tvm.nd.array(h), tvm.nd.array(x))]\n",
    "# torch_h, torch_x = basic(torch.from_numpy(h), torch.from_numpy(x))\n",
    "# torch_x-tvm_x, (torch_h-tvm_h).abs().max()"
   ]
  },
  {
   "cell_type": "code",
   "execution_count": 559,
   "id": "54c01faf-b2e6-40aa-a75a-412a1a864963",
   "metadata": {},
   "outputs": [
    {
     "ename": "OpNotImplemented",
     "evalue": "The following operators are not supported for frontend ONNX: RandomUniformLike",
     "output_type": "error",
     "traceback": [
      "\u001b[0;31m---------------------------------------------------------------------------\u001b[0m",
      "\u001b[0;31mOpNotImplemented\u001b[0m                          Traceback (most recent call last)",
      "\u001b[0;32m/tmp/ipykernel_95517/1008541621.py\u001b[0m in \u001b[0;36m<module>\u001b[0;34m\u001b[0m\n\u001b[1;32m      3\u001b[0m \u001b[0;34m\u001b[0m\u001b[0m\n\u001b[1;32m      4\u001b[0m \u001b[0mshape_dict\u001b[0m \u001b[0;34m=\u001b[0m \u001b[0;34m{\u001b[0m\u001b[0;34m'prev_state'\u001b[0m\u001b[0;34m:\u001b[0m \u001b[0mh\u001b[0m\u001b[0;34m.\u001b[0m\u001b[0mshape\u001b[0m\u001b[0;34m,\u001b[0m \u001b[0;34m'input'\u001b[0m\u001b[0;34m:\u001b[0m\u001b[0mx\u001b[0m\u001b[0;34m.\u001b[0m\u001b[0mshape\u001b[0m\u001b[0;34m}\u001b[0m\u001b[0;34m\u001b[0m\u001b[0;34m\u001b[0m\u001b[0m\n\u001b[0;32m----> 5\u001b[0;31m \u001b[0mmod\u001b[0m\u001b[0;34m,\u001b[0m \u001b[0mparams\u001b[0m \u001b[0;34m=\u001b[0m \u001b[0mrelay\u001b[0m\u001b[0;34m.\u001b[0m\u001b[0mfrontend\u001b[0m\u001b[0;34m.\u001b[0m\u001b[0mfrom_onnx\u001b[0m\u001b[0;34m(\u001b[0m\u001b[0monnx_model\u001b[0m\u001b[0;34m,\u001b[0m \u001b[0mshape_dict\u001b[0m\u001b[0;34m)\u001b[0m\u001b[0;34m\u001b[0m\u001b[0;34m\u001b[0m\u001b[0m\n\u001b[0m\u001b[1;32m      6\u001b[0m \u001b[0;34m\u001b[0m\u001b[0m\n\u001b[1;32m      7\u001b[0m \u001b[0;32mwith\u001b[0m \u001b[0mtvm\u001b[0m\u001b[0;34m.\u001b[0m\u001b[0mtransform\u001b[0m\u001b[0;34m.\u001b[0m\u001b[0mPassContext\u001b[0m\u001b[0;34m(\u001b[0m\u001b[0mopt_level\u001b[0m\u001b[0;34m=\u001b[0m\u001b[0;36m1\u001b[0m\u001b[0;34m)\u001b[0m\u001b[0;34m:\u001b[0m\u001b[0;34m\u001b[0m\u001b[0;34m\u001b[0m\u001b[0m\n",
      "\u001b[0;32m~/tvm/python/tvm/relay/frontend/onnx.py\u001b[0m in \u001b[0;36mfrom_onnx\u001b[0;34m(model, shape, dtype, opset, freeze_params, convert_config)\u001b[0m\n\u001b[1;32m   4834\u001b[0m     \u001b[0;31m# Use the graph proto as a scope so that ops can access other nodes if needed.\u001b[0m\u001b[0;34m\u001b[0m\u001b[0;34m\u001b[0m\u001b[0m\n\u001b[1;32m   4835\u001b[0m     \u001b[0;32mwith\u001b[0m \u001b[0mg\u001b[0m\u001b[0;34m:\u001b[0m\u001b[0;34m\u001b[0m\u001b[0;34m\u001b[0m\u001b[0m\n\u001b[0;32m-> 4836\u001b[0;31m         \u001b[0mmod\u001b[0m\u001b[0;34m,\u001b[0m \u001b[0mparams\u001b[0m \u001b[0;34m=\u001b[0m \u001b[0mg\u001b[0m\u001b[0;34m.\u001b[0m\u001b[0mfrom_onnx\u001b[0m\u001b[0;34m(\u001b[0m\u001b[0mgraph\u001b[0m\u001b[0;34m,\u001b[0m \u001b[0mopset\u001b[0m\u001b[0;34m)\u001b[0m\u001b[0;34m\u001b[0m\u001b[0;34m\u001b[0m\u001b[0m\n\u001b[0m\u001b[1;32m   4837\u001b[0m     \u001b[0;32mreturn\u001b[0m \u001b[0mmod\u001b[0m\u001b[0;34m,\u001b[0m \u001b[0mparams\u001b[0m\u001b[0;34m\u001b[0m\u001b[0;34m\u001b[0m\u001b[0m\n",
      "\u001b[0;32m~/tvm/python/tvm/relay/frontend/onnx.py\u001b[0m in \u001b[0;36mfrom_onnx\u001b[0;34m(self, graph, opset, get_output_expr)\u001b[0m\n\u001b[1;32m   4580\u001b[0m             \u001b[0mmsg\u001b[0m \u001b[0;34m=\u001b[0m \u001b[0;34m\"The following operators are not supported for frontend ONNX: \"\u001b[0m\u001b[0;34m\u001b[0m\u001b[0;34m\u001b[0m\u001b[0m\n\u001b[1;32m   4581\u001b[0m             \u001b[0mmsg\u001b[0m \u001b[0;34m+=\u001b[0m \u001b[0;34m\", \"\u001b[0m\u001b[0;34m.\u001b[0m\u001b[0mjoin\u001b[0m\u001b[0;34m(\u001b[0m\u001b[0munsupported_ops\u001b[0m\u001b[0;34m)\u001b[0m\u001b[0;34m\u001b[0m\u001b[0;34m\u001b[0m\u001b[0m\n\u001b[0;32m-> 4582\u001b[0;31m             \u001b[0;32mraise\u001b[0m \u001b[0mtvm\u001b[0m\u001b[0;34m.\u001b[0m\u001b[0merror\u001b[0m\u001b[0;34m.\u001b[0m\u001b[0mOpNotImplemented\u001b[0m\u001b[0;34m(\u001b[0m\u001b[0mmsg\u001b[0m\u001b[0;34m)\u001b[0m\u001b[0;34m\u001b[0m\u001b[0;34m\u001b[0m\u001b[0m\n\u001b[0m\u001b[1;32m   4583\u001b[0m         \u001b[0;31m# construct nodes, nodes are stored as directed acyclic graph\u001b[0m\u001b[0;34m\u001b[0m\u001b[0;34m\u001b[0m\u001b[0m\n\u001b[1;32m   4584\u001b[0m         \u001b[0;32mfor\u001b[0m \u001b[0mnode\u001b[0m \u001b[0;32min\u001b[0m \u001b[0mgraph\u001b[0m\u001b[0;34m.\u001b[0m\u001b[0mnode\u001b[0m\u001b[0;34m:\u001b[0m\u001b[0;34m\u001b[0m\u001b[0;34m\u001b[0m\u001b[0m\n",
      "\u001b[0;31mOpNotImplemented\u001b[0m: The following operators are not supported for frontend ONNX: RandomUniformLike"
     ]
    }
   ],
   "source": [
    "h = np.ones((1, rnn.hidden_size), np.float32)\n",
    "x = np.zeros((1,1), np.float32)\n",
    "\n",
    "shape_dict = {'prev_state': h.shape, 'input':x.shape}\n",
    "mod, params = relay.frontend.from_onnx(onnx_model, shape_dict)\n",
    "\n",
    "with tvm.transform.PassContext(opt_level=1):\n",
    "    executor = relay.build_module.create_executor(\n",
    "        'graph', mod, tvm.cpu(0), tvm_target, params\n",
    "    ).evaluate()"
   ]
  },
  {
   "cell_type": "markdown",
   "id": "556ad086-236e-4a50-8d5b-d029888a02b7",
   "metadata": {},
   "source": [
    "TVM also does not do RNG?"
   ]
  },
  {
   "cell_type": "code",
   "execution_count": 561,
   "id": "65ec168c-4915-4bf2-819d-a3f7af3bf4a6",
   "metadata": {},
   "outputs": [],
   "source": [
    "h = np.ones((1, rnn.hidden_size), np.float32)\n",
    "x = np.zeros((1,1), np.float32)\n",
    "u = 0.5*np.ones((1,1), np.float32)\n",
    "\n",
    "shape_dict = {'prev_state': h.shape, 'input':x.shape, 'rng':u.shape}\n",
    "mod, params = relay.frontend.from_onnx(onnx_model_norng, shape_dict)\n",
    "\n",
    "with tvm.transform.PassContext(opt_level=1):\n",
    "    executor = relay.build_module.create_executor(\n",
    "        'graph', mod, tvm.cpu(0), tvm_target, params\n",
    "    ).evaluate()"
   ]
  },
  {
   "cell_type": "code",
   "execution_count": 562,
   "id": "9a84ff0b-2187-4efd-8d04-8643d69d748b",
   "metadata": {},
   "outputs": [
    {
     "data": {
      "text/plain": [
       "tensor([[0.0296]])"
      ]
     },
     "execution_count": 562,
     "metadata": {},
     "output_type": "execute_result"
    }
   ],
   "source": [
    "tvm_h, tvm_x = [torch.from_numpy(item.numpy()) for item in executor(tvm.nd.array(h), tvm.nd.array(x), tvm.nd.array(u))]\n",
    "tvm_x"
   ]
  },
  {
   "cell_type": "code",
   "execution_count": 563,
   "id": "98724332-79b5-48c9-a50a-45d1baf72572",
   "metadata": {},
   "outputs": [
    {
     "name": "stdout",
     "output_type": "stream",
     "text": [
      "2.21 s ± 58.8 ms per loop (mean ± std. dev. of 7 runs, 1 loop each)\n"
     ]
    }
   ],
   "source": [
    "%%timeit\n",
    "h = tvm.nd.array(np.zeros((1, rnn.hidden_size), np.float32))\n",
    "x = tvm.nd.array(np.array([[0.]]).astype(np.float32))\n",
    "u = tvm.nd.array(np.zeros((1,1), np.float32))\n",
    "xs = []\n",
    "for _ in range(8000):\n",
    "    # u = tvm.nd.array(np.random.rand(1,1).astype(np.float32))    \n",
    "    h, x = executor(h, x, u)\n",
    "    # xs.append(x.numpy().item())"
   ]
  },
  {
   "cell_type": "markdown",
   "id": "f81dde3b-ce25-4c5f-ad4c-a30afa7e747b",
   "metadata": {},
   "source": [
    "using TVM this way is 2x *slower*"
   ]
  }
 ],
 "metadata": {
  "kernelspec": {
   "display_name": "rnn-export",
   "language": "python",
   "name": "rnn-export"
  },
  "language_info": {
   "codemirror_mode": {
    "name": "ipython",
    "version": 3
   },
   "file_extension": ".py",
   "mimetype": "text/x-python",
   "name": "python",
   "nbconvert_exporter": "python",
   "pygments_lexer": "ipython3",
   "version": "3.9.7"
  }
 },
 "nbformat": 4,
 "nbformat_minor": 5
}
